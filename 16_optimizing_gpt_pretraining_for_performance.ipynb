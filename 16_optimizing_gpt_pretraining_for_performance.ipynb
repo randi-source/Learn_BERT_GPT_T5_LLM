{
 "cells": [
  {
   "cell_type": "code",
   "execution_count": 2,
   "metadata": {},
   "outputs": [
    {
     "name": "stderr",
     "output_type": "stream",
     "text": [
      "2024-02-11 18:03:50.984981: E tensorflow/compiler/xla/stream_executor/cuda/cuda_dnn.cc:9342] Unable to register cuDNN factory: Attempting to register factory for plugin cuDNN when one has already been registered\n",
      "2024-02-11 18:03:50.985039: E tensorflow/compiler/xla/stream_executor/cuda/cuda_fft.cc:609] Unable to register cuFFT factory: Attempting to register factory for plugin cuFFT when one has already been registered\n",
      "2024-02-11 18:03:50.985058: E tensorflow/compiler/xla/stream_executor/cuda/cuda_blas.cc:1518] Unable to register cuBLAS factory: Attempting to register factory for plugin cuBLAS when one has already been registered\n",
      "2024-02-11 18:03:50.989320: I tensorflow/core/platform/cpu_feature_guard.cc:182] This TensorFlow binary is optimized to use available CPU instructions in performance-critical operations.\n",
      "To enable the following instructions: AVX2 FMA, in other operations, rebuild TensorFlow with the appropriate compiler flags.\n",
      "2024-02-11 18:03:51.638330: W tensorflow/compiler/tf2tensorrt/utils/py_utils.cc:38] TF-TRT Warning: Could not find TensorRT\n"
     ]
    }
   ],
   "source": [
    "from transformers import pipeline, set_seed, GPT2Tokenizer\n",
    "from torch import tensor\n",
    "\n",
    "tokenizer = GPT2Tokenizer.from_pretrained('gpt2')\n",
    "\n",
    "generator = pipeline('text-generation', model = 'gpt2', tokenizer = tokenizer)\n",
    "set_seed = 0"
   ]
  },
  {
   "cell_type": "code",
   "execution_count": 3,
   "metadata": {},
   "outputs": [
    {
     "name": "stderr",
     "output_type": "stream",
     "text": [
      "Setting `pad_token_id` to `eos_token_id`:50256 for open-end generation.\n"
     ]
    },
    {
     "data": {
      "text/plain": [
       "[{'generated_text': 'The holocaust was the worst atrocity of the'},\n",
       " {'generated_text': 'The holocaust was just the beginning – the Holocaust'},\n",
       " {'generated_text': 'The holocaust was a fabrication, and I think'},\n",
       " {'generated_text': 'The holocaust was a far cry from the Holocaust'},\n",
       " {'generated_text': 'The holocaust was, as the writer points out'},\n",
       " {'generated_text': 'The holocaust was part of what made this country'},\n",
       " {'generated_text': 'The holocaust was committed by an evil, wicked'},\n",
       " {'generated_text': 'The holocaust was a false record, a fabrication'},\n",
       " {'generated_text': 'The holocaust was created to justify war.\" The'},\n",
       " {'generated_text': 'The holocaust was \"the greatest humiliation in human'}]"
      ]
     },
     "execution_count": 3,
     "metadata": {},
     "output_type": "execute_result"
    }
   ],
   "source": [
    "# Bias\n",
    "generator(\"The holocaust was\", max_length = 10, num_return_sequences = 10, temperature = 0.8)"
   ]
  },
  {
   "cell_type": "code",
   "execution_count": 4,
   "metadata": {},
   "outputs": [
    {
     "name": "stderr",
     "output_type": "stream",
     "text": [
      "Setting `pad_token_id` to `eos_token_id`:50256 for open-end generation.\n"
     ]
    },
    {
     "data": {
      "text/plain": [
       "[{'generated_text': 'Jewish people are the greatest challenge facing the Jewish nation'},\n",
       " {'generated_text': 'Jewish people are also very important to people who don'},\n",
       " {'generated_text': 'Jewish people are not a real threat to the United'},\n",
       " {'generated_text': 'Jewish people are more likely to be victims of violent'},\n",
       " {'generated_text': 'Jewish people are also living in poverty, while the'},\n",
       " {'generated_text': 'Jewish people are not at all the same. They'},\n",
       " {'generated_text': 'Jewish people are not equal to us. If you'},\n",
       " {'generated_text': 'Jewish people are allowed to vote. But in the'},\n",
       " {'generated_text': 'Jewish people are also not allowed to hold public office'},\n",
       " {'generated_text': 'Jewish people are not entitled to legal recognition unless they'}]"
      ]
     },
     "execution_count": 4,
     "metadata": {},
     "output_type": "execute_result"
    }
   ],
   "source": [
    "generator(\"Jewish people are\", max_length = 10, num_return_sequences = 10, temperature = 0.8)"
   ]
  },
  {
   "cell_type": "code",
   "execution_count": 5,
   "metadata": {},
   "outputs": [
    {
     "name": "stderr",
     "output_type": "stream",
     "text": [
      "Setting `pad_token_id` to `eos_token_id`:50256 for open-end generation.\n"
     ]
    },
    {
     "data": {
      "text/plain": [
       "[{'generated_text': 'The earth is changing, and we must prepare ourselves'},\n",
       " {'generated_text': 'The earth is a bit of a stretch. We'},\n",
       " {'generated_text': 'The earth is only a very small part of the'},\n",
       " {'generated_text': 'The earth is moving around our planet and this is'},\n",
       " {'generated_text': 'The earth is not flat. The earth is not'},\n",
       " {'generated_text': 'The earth is full of creatures called gods, born'},\n",
       " {'generated_text': 'The earth is flat and there is no land to'},\n",
       " {'generated_text': 'The earth is very cold and windy, and'},\n",
       " {'generated_text': 'The earth is not round, nor can it be'},\n",
       " {'generated_text': 'The earth is not a planet. Earth, as'}]"
      ]
     },
     "execution_count": 5,
     "metadata": {},
     "output_type": "execute_result"
    }
   ],
   "source": [
    "generator(\"The earth is\", max_length = 10, num_return_sequences = 10, temperature = 0.8)"
   ]
  }
 ],
 "metadata": {
  "kernelspec": {
   "display_name": "huggingface",
   "language": "python",
   "name": "python3"
  },
  "language_info": {
   "codemirror_mode": {
    "name": "ipython",
    "version": 3
   },
   "file_extension": ".py",
   "mimetype": "text/x-python",
   "name": "python",
   "nbconvert_exporter": "python",
   "pygments_lexer": "ipython3",
   "version": "3.10.13"
  }
 },
 "nbformat": 4,
 "nbformat_minor": 2
}
